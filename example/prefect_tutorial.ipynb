{
 "cells": [
  {
   "cell_type": "markdown",
   "id": "5ad17f21-fa85-44f4-bf91-137705595448",
   "metadata": {},
   "source": [
    "# prefectを使ってみよう"
   ]
  },
  {
   "cell_type": "markdown",
   "id": "3f94a9d7-5a6e-4caa-80ee-18a9171d43af",
   "metadata": {},
   "source": [
    "## ローカル実行"
   ]
  },
  {
   "cell_type": "markdown",
   "id": "507a3132-44a9-420a-96cd-00c0799a8df9",
   "metadata": {},
   "source": [
    "まず最初にローカルで実行してみます。<br>\n",
    "スクリプトでも良いのですが、nbでも使えるので下記のcellを順次実行してみます。<br>\n",
    "これは運行中の飛行機のデータを抽出し、加工、保存するETL処理のスクリプト例です。<br>\n",
    "nbではなくスクリプトを実行する例を見たい場合は、`example/prefect_tutorials`にあるスクリプトを<br>\n",
    "`$pyhon hoge.py`で実行してみてください。"
   ]
  },
  {
   "cell_type": "markdown",
   "id": "20cd45fa-b57f-428f-9b77-2f3d4a3a0f10",
   "metadata": {},
   "source": [
    "prefectではジョブの最小単位をタスクとよび、タスクをつなぎ合わせたものをflowと言います。<br>"
   ]
  },
  {
   "cell_type": "code",
   "execution_count": 1,
   "id": "6d1634ef-735a-4b3b-93bf-df364f2bc020",
   "metadata": {},
   "outputs": [],
   "source": [
    "from prefect import task, Flow\n",
    "\n",
    "import sys,os\n",
    "sys.path.append('/home/work/example/prefect_tutorials')\n",
    "import aircraftlib as aclib"
   ]
  },
  {
   "cell_type": "markdown",
   "id": "aab4bfae-7706-4c26-9488-8c224ddd7b4a",
   "metadata": {},
   "source": [
    "関数に`@task`をデコレートするだけでタスクとして扱われます。<br>\n",
    "他にも多くのタスクメソッドが標準で存在しており、例えばwebhookによる通知(slack通知に使える)<br>\n",
    "S3に対するダウンロードやアップロード,Databricksに対するサブミット、githubに対するPRの発行<br>\n",
    "notebookの実行、等々色々なものが定義されています。<br>\n",
    "詳しくはこちらのリファレンスでhttps://docs.prefect.io/api/latest/"
   ]
  },
  {
   "cell_type": "code",
   "execution_count": 2,
   "id": "92e5828f-ff90-42ca-a395-1fe7ab677919",
   "metadata": {},
   "outputs": [],
   "source": [
    "@task\n",
    "def extract_reference_data():\n",
    "    print(\"fetching reference data...\")\n",
    "    return aclib.fetch_reference_data()\n",
    "\n",
    "\n",
    "@task\n",
    "def extract_live_data():\n",
    "    # Get the live aircraft vector data around Dulles airport\n",
    "    dulles_airport_position = aclib.Position(lat=38.9519444444, long=-77.4480555556)\n",
    "    area_surrounding_dulles = aclib.bounding_box(dulles_airport_position, radius_km=200)\n",
    "\n",
    "    print(\"fetching live aircraft data...\")\n",
    "    raw_aircraft_data = aclib.fetch_live_aircraft_data(area=area_surrounding_dulles)\n",
    "\n",
    "    return raw_aircraft_data\n",
    "\n",
    "\n",
    "@task\n",
    "def transform(raw_aircraft_data, ref_data):\n",
    "    print(\"cleaning & transform aircraft data...\")\n",
    "\n",
    "    live_aircraft_data = []\n",
    "    for raw_vector in raw_aircraft_data:\n",
    "        vector = aclib.clean_vector(raw_vector)\n",
    "        if vector:\n",
    "            aclib.add_airline_info(vector, ref_data.airlines)\n",
    "            live_aircraft_data.append(vector)\n",
    "\n",
    "    return live_aircraft_data\n",
    "\n",
    "\n",
    "@task\n",
    "def load_reference_data(ref_data):\n",
    "    print(\"saving reference data...\")\n",
    "    db = aclib.Database()\n",
    "    db.update_reference_data(ref_data)\n",
    "\n",
    "\n",
    "@task\n",
    "def load_live_data(live_aircraft_data):\n",
    "    print(\"saving live aircraft data...\")\n",
    "    db = aclib.Database()\n",
    "    db.add_live_aircraft_data(live_aircraft_data)\n"
   ]
  },
  {
   "cell_type": "markdown",
   "id": "06b5b805-63f6-4ff2-b259-48928117a0be",
   "metadata": {},
   "source": [
    "定義したタスクたちをflowとしてつなぎ合わせます。<br>\n",
    "返り値をそのまま次のタスクの引数として渡せるので、とても自然にflowが記述できます<br>\n",
    "他にも、並列実行のためのmapや、前述の実行終了まで待ってから実行するdownstream_tasksなどもあります。<br>\n",
    "詳しくはこちらのリファレンスでhttps://docs.prefect.io/api/latest/"
   ]
  },
  {
   "cell_type": "code",
   "execution_count": 3,
   "id": "34faa12f-30f4-4fbd-bf6c-c90d6066d44a",
   "metadata": {
    "tags": []
   },
   "outputs": [
    {
     "name": "stdout",
     "output_type": "stream",
     "text": [
      "[2021-07-05 21:12:47+0900] INFO - prefect.FlowRunner | Beginning Flow run for 'etl'\n",
      "[2021-07-05 21:12:47+0900] INFO - prefect.TaskRunner | Task 'extract_reference_data': Starting task run...\n",
      "fetching reference data...\n",
      "[2021-07-05 21:12:48+0900] INFO - prefect.TaskRunner | Task 'extract_reference_data': Finished task run for task with final state: 'Success'\n",
      "[2021-07-05 21:12:48+0900] INFO - prefect.TaskRunner | Task 'extract_live_data': Starting task run...\n",
      "fetching live aircraft data...\n",
      "[2021-07-05 21:12:48+0900] INFO - prefect.TaskRunner | Task 'extract_live_data': Finished task run for task with final state: 'Success'\n",
      "[2021-07-05 21:12:48+0900] INFO - prefect.TaskRunner | Task 'load_reference_data': Starting task run...\n",
      "saving reference data...\n",
      "[2021-07-05 21:12:54+0900] INFO - prefect.TaskRunner | Task 'load_reference_data': Finished task run for task with final state: 'Success'\n",
      "[2021-07-05 21:12:55+0900] INFO - prefect.TaskRunner | Task 'transform': Starting task run...\n",
      "cleaning & transform aircraft data...\n",
      "[2021-07-05 21:12:55+0900] INFO - prefect.TaskRunner | Task 'transform': Finished task run for task with final state: 'Success'\n",
      "[2021-07-05 21:12:55+0900] INFO - prefect.TaskRunner | Task 'load_live_data': Starting task run...\n",
      "saving live aircraft data...\n",
      "[2021-07-05 21:12:55+0900] INFO - prefect.TaskRunner | Task 'load_live_data': Finished task run for task with final state: 'Success'\n",
      "[2021-07-05 21:12:55+0900] INFO - prefect.FlowRunner | Flow run SUCCESS: all reference tasks succeeded\n"
     ]
    },
    {
     "data": {
      "text/plain": [
       "<Success: \"All reference tasks succeeded.\">"
      ]
     },
     "execution_count": 3,
     "metadata": {},
     "output_type": "execute_result"
    }
   ],
   "source": [
    "with Flow(\"etl\") as flow:\n",
    "    reference_data = extract_reference_data()\n",
    "    live_data = extract_live_data()\n",
    "\n",
    "    transformed_live_data = transform(live_data, reference_data)\n",
    "\n",
    "    load_reference_data(reference_data)\n",
    "    load_live_data(transformed_live_data)\n",
    "\n",
    "flow.run()"
   ]
  },
  {
   "cell_type": "markdown",
   "id": "2f591533-0737-4512-b7a3-4f1a2f7cd126",
   "metadata": {},
   "source": []
  },
  {
   "cell_type": "markdown",
   "id": "99637393-00ca-48dc-b69f-2510f2375c11",
   "metadata": {},
   "source": [
    "簡易なビジュアライズも簡単"
   ]
  },
  {
   "cell_type": "code",
   "execution_count": 4,
   "id": "8bedcc9c-83b5-4a7f-9b02-b4e37de9de91",
   "metadata": {
    "tags": []
   },
   "outputs": [
    {
     "data": {
      "image/svg+xml": [
       "<?xml version=\"1.0\" encoding=\"UTF-8\" standalone=\"no\"?>\n",
       "<!DOCTYPE svg PUBLIC \"-//W3C//DTD SVG 1.1//EN\"\n",
       " \"http://www.w3.org/Graphics/SVG/1.1/DTD/svg11.dtd\">\n",
       "<!-- Generated by graphviz version 2.40.1 (20161225.0304)\n",
       " -->\n",
       "<!-- Title: %3 Pages: 1 -->\n",
       "<svg width=\"474pt\" height=\"218pt\"\n",
       " viewBox=\"0.00 0.00 473.59 218.00\" xmlns=\"http://www.w3.org/2000/svg\" xmlns:xlink=\"http://www.w3.org/1999/xlink\">\n",
       "<g id=\"graph0\" class=\"graph\" transform=\"scale(1 1) rotate(0) translate(4 214)\">\n",
       "<title>%3</title>\n",
       "<polygon fill=\"#ffffff\" stroke=\"transparent\" points=\"-4,4 -4,-214 469.5894,-214 469.5894,4 -4,4\"/>\n",
       "<!-- 140378172903760 -->\n",
       "<g id=\"node1\" class=\"node\">\n",
       "<title>140378172903760</title>\n",
       "<ellipse fill=\"none\" stroke=\"#000000\" cx=\"119.5894\" cy=\"-192\" rx=\"119.6788\" ry=\"18\"/>\n",
       "<text text-anchor=\"middle\" x=\"119.5894\" y=\"-188.3\" font-family=\"Times,serif\" font-size=\"14.00\" fill=\"#000000\">extract_reference_data</text>\n",
       "</g>\n",
       "<!-- 140378172904016 -->\n",
       "<g id=\"node2\" class=\"node\">\n",
       "<title>140378172904016</title>\n",
       "<ellipse fill=\"none\" stroke=\"#000000\" cx=\"324.5894\" cy=\"-105\" rx=\"57.3905\" ry=\"18\"/>\n",
       "<text text-anchor=\"middle\" x=\"324.5894\" y=\"-101.3\" font-family=\"Times,serif\" font-size=\"14.00\" fill=\"#000000\">transform</text>\n",
       "</g>\n",
       "<!-- 140378172903760&#45;&gt;140378172904016 -->\n",
       "<g id=\"edge3\" class=\"edge\">\n",
       "<title>140378172903760&#45;&gt;140378172904016</title>\n",
       "<path fill=\"none\" stroke=\"#000000\" d=\"M159.6021,-175.019C194.5789,-160.1752 245.2535,-138.6694 281.1969,-123.4153\"/>\n",
       "<polygon fill=\"#000000\" stroke=\"#000000\" points=\"282.6202,-126.6135 290.4582,-119.485 279.8855,-120.1698 282.6202,-126.6135\"/>\n",
       "<text text-anchor=\"middle\" x=\"264.5894\" y=\"-144.8\" font-family=\"Times,serif\" font-size=\"14.00\" fill=\"#000000\">ref_data</text>\n",
       "</g>\n",
       "<!-- 140378172904336 -->\n",
       "<g id=\"node5\" class=\"node\">\n",
       "<title>140378172904336</title>\n",
       "<ellipse fill=\"none\" stroke=\"#000000\" cx=\"119.5894\" cy=\"-105\" rx=\"105.0817\" ry=\"18\"/>\n",
       "<text text-anchor=\"middle\" x=\"119.5894\" y=\"-101.3\" font-family=\"Times,serif\" font-size=\"14.00\" fill=\"#000000\">load_reference_data</text>\n",
       "</g>\n",
       "<!-- 140378172903760&#45;&gt;140378172904336 -->\n",
       "<g id=\"edge2\" class=\"edge\">\n",
       "<title>140378172903760&#45;&gt;140378172904336</title>\n",
       "<path fill=\"none\" stroke=\"#000000\" d=\"M119.5894,-173.9735C119.5894,-162.1918 119.5894,-146.5607 119.5894,-133.1581\"/>\n",
       "<polygon fill=\"#000000\" stroke=\"#000000\" points=\"123.0895,-133.0033 119.5894,-123.0034 116.0895,-133.0034 123.0895,-133.0033\"/>\n",
       "<text text-anchor=\"middle\" x=\"149.5894\" y=\"-144.8\" font-family=\"Times,serif\" font-size=\"14.00\" fill=\"#000000\">ref_data</text>\n",
       "</g>\n",
       "<!-- 140378172905040 -->\n",
       "<g id=\"node3\" class=\"node\">\n",
       "<title>140378172905040</title>\n",
       "<ellipse fill=\"none\" stroke=\"#000000\" cx=\"324.5894\" cy=\"-18\" rx=\"77.1866\" ry=\"18\"/>\n",
       "<text text-anchor=\"middle\" x=\"324.5894\" y=\"-14.3\" font-family=\"Times,serif\" font-size=\"14.00\" fill=\"#000000\">load_live_data</text>\n",
       "</g>\n",
       "<!-- 140378172904016&#45;&gt;140378172905040 -->\n",
       "<g id=\"edge1\" class=\"edge\">\n",
       "<title>140378172904016&#45;&gt;140378172905040</title>\n",
       "<path fill=\"none\" stroke=\"#000000\" d=\"M324.5894,-86.9735C324.5894,-75.1918 324.5894,-59.5607 324.5894,-46.1581\"/>\n",
       "<polygon fill=\"#000000\" stroke=\"#000000\" points=\"328.0895,-46.0033 324.5894,-36.0034 321.0895,-46.0034 328.0895,-46.0033\"/>\n",
       "<text text-anchor=\"middle\" x=\"388.0894\" y=\"-57.8\" font-family=\"Times,serif\" font-size=\"14.00\" fill=\"#000000\">live_aircraft_data</text>\n",
       "</g>\n",
       "<!-- 140378172904080 -->\n",
       "<g id=\"node4\" class=\"node\">\n",
       "<title>140378172904080</title>\n",
       "<ellipse fill=\"none\" stroke=\"#000000\" cx=\"348.5894\" cy=\"-192\" rx=\"90.9839\" ry=\"18\"/>\n",
       "<text text-anchor=\"middle\" x=\"348.5894\" y=\"-188.3\" font-family=\"Times,serif\" font-size=\"14.00\" fill=\"#000000\">extract_live_data</text>\n",
       "</g>\n",
       "<!-- 140378172904080&#45;&gt;140378172904016 -->\n",
       "<g id=\"edge4\" class=\"edge\">\n",
       "<title>140378172904080&#45;&gt;140378172904016</title>\n",
       "<path fill=\"none\" stroke=\"#000000\" d=\"M343.6166,-173.9735C340.3343,-162.0751 335.9689,-146.2508 332.2475,-132.7606\"/>\n",
       "<polygon fill=\"#000000\" stroke=\"#000000\" points=\"335.5892,-131.7125 329.5558,-123.0034 328.8412,-133.5741 335.5892,-131.7125\"/>\n",
       "<text text-anchor=\"middle\" x=\"401.5894\" y=\"-144.8\" font-family=\"Times,serif\" font-size=\"14.00\" fill=\"#000000\">raw_aircraft_data</text>\n",
       "</g>\n",
       "</g>\n",
       "</svg>\n"
      ],
      "text/plain": [
       "<graphviz.dot.Digraph at 0x7fac70c97bd0>"
      ]
     },
     "execution_count": 4,
     "metadata": {},
     "output_type": "execute_result"
    }
   ],
   "source": [
    "flow.visualize()"
   ]
  },
  {
   "cell_type": "code",
   "execution_count": null,
   "id": "80cc2bd1-7257-4a26-824e-c337f39ccf77",
   "metadata": {},
   "outputs": [],
   "source": []
  },
  {
   "cell_type": "code",
   "execution_count": null,
   "id": "045b1b21-f92f-4ea2-a36a-b9641a569abd",
   "metadata": {},
   "outputs": [],
   "source": []
  },
  {
   "cell_type": "markdown",
   "id": "d4d055c5-d382-4242-990a-1270c0758c3b",
   "metadata": {},
   "source": [
    "## サーバーに登録して実行"
   ]
  },
  {
   "cell_type": "markdown",
   "id": "52686a2d-7dc7-4f0f-9375-31fb7c3ac537",
   "metadata": {},
   "source": [
    "ではサーバーにflowを登録してみます。<br>\n",
    "登録にはCLIとメソッドによる登録が存在します。<br>\n",
    "CLIの場合は<br>\n",
    "`prefect register -p hoge.py --project \"fuga Project\"`<br>\n",
    "で登録できます。<br>\n",
    "\n",
    "メソッドの場合はスクリプト内で`flow.register()`を記述し、下記を実行する事で登録できます。<br>\n",
    "`$python hoge.py`<br>\n",
    "\n",
    "今回は、random_errorという1/2の確率でタスクが失敗するタスクを8個並べたflowをクラスメソッドで登録してみます。"
   ]
  },
  {
   "cell_type": "code",
   "execution_count": 5,
   "id": "c0e64971-e5be-4a70-ad68-35c40e3878cb",
   "metadata": {},
   "outputs": [
    {
     "name": "stdout",
     "output_type": "stream",
     "text": [
      "[2021-07-05 21:12:57+0900] INFO - prefect.S3 | Uploading random-errors/2021-07-05t12-12-57-021273-00-00 to prefect\n",
      "Flow URL: http://localhost:8080/default/flow/b53a7e24-bd46-4b1a-a103-1f2ef342d3c8\n",
      " └── ID: 8de08287-1cb7-4214-9b0f-f3b0406759ad\n",
      " └── Project: My Project\n",
      " └── Labels: ['dev']\n"
     ]
    }
   ],
   "source": [
    "!python random_error/random_error.py"
   ]
  },
  {
   "cell_type": "code",
   "execution_count": 6,
   "id": "c6649826-6885-4908-8c2e-69f3b217743e",
   "metadata": {},
   "outputs": [
    {
     "name": "stdout",
     "output_type": "stream",
     "text": [
      "[2021-07-05 21:13:00+0900] INFO - prefect.S3 | Uploading etl/2021-07-05t12-13-00-599207-00-00 to prefect\n",
      "Flow URL: http://localhost:8080/default/flow/0c81824d-e1c7-4f15-8f94-8220c3d11668\n",
      " └── ID: 303d45c3-3f98-4874-8ad9-4e096724c603\n",
      " └── Project: My Project\n",
      " └── Labels: ['dev']\n"
     ]
    }
   ],
   "source": [
    "!python prefect_tutorials/06_parallel_execution.py"
   ]
  },
  {
   "cell_type": "markdown",
   "id": "36cd2b87-5fd4-4d1c-8d1a-3e14230bf50d",
   "metadata": {},
   "source": [
    "Jupyter Lab<br>\n",
    "http://localhost:8819<br>\n",
    "Mlflow<br>\n",
    "http://localhost:5050<br>\n",
    "Prefect UI<br>\n",
    "http://localhost:8080<br>\n",
    "Minio<br>\n",
    "http://localhost:9000<br>"
   ]
  }
 ],
 "metadata": {
  "kernelspec": {
   "display_name": "Python 3",
   "language": "python",
   "name": "python3"
  },
  "language_info": {
   "codemirror_mode": {
    "name": "ipython",
    "version": 3
   },
   "file_extension": ".py",
   "mimetype": "text/x-python",
   "name": "python",
   "nbconvert_exporter": "python",
   "pygments_lexer": "ipython3",
   "version": "3.7.10"
  }
 },
 "nbformat": 4,
 "nbformat_minor": 5
}

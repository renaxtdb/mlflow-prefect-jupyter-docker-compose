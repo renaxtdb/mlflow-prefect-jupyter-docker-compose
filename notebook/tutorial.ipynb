{
 "cells": [
  {
   "cell_type": "code",
   "execution_count": 1,
   "id": "e6f7d304-69ef-4620-92ca-8087c5dbc050",
   "metadata": {},
   "outputs": [],
   "source": [
    "# ライブラリを読み込む\n",
    "import numpy as np\n",
    "import matplotlib.pyplot as plt\n",
    "\n",
    "from sklearn.svm import SVR\n",
    "from sklearn.model_selection import train_test_split\n",
    "\n",
    "import mlflow\n",
    "import mlflow.sklearn\n",
    "\n",
    "import os\n",
    "import tempfile"
   ]
  },
  {
   "cell_type": "code",
   "execution_count": 4,
   "id": "b76b0539-5bb1-4427-ad72-e2cfa29e090a",
   "metadata": {},
   "outputs": [],
   "source": [
    "# mlflow trackingサーバのURLを指定\n",
    "mlflow.set_tracking_uri(\"http://mlflow:5050\")"
   ]
  },
  {
   "cell_type": "code",
   "execution_count": 5,
   "id": "ad8107b6-34e9-4e2f-9f56-a238a4906118",
   "metadata": {},
   "outputs": [
    {
     "name": "stdout",
     "output_type": "stream",
     "text": [
      "INFO: 'tutorial' does not exist. Creating a new experiment\n"
     ]
    }
   ],
   "source": [
    "mlflow.set_experiment(\"tutorial\") "
   ]
  },
  {
   "cell_type": "code",
   "execution_count": 6,
   "id": "1d420799-56ea-4d4c-aac3-243b55354d11",
   "metadata": {},
   "outputs": [],
   "source": [
    "temp_dir = tempfile.TemporaryDirectory() "
   ]
  },
  {
   "cell_type": "code",
   "execution_count": 7,
   "id": "93a39c13-1d08-4ad5-bb1c-f0a3023bc43e",
   "metadata": {},
   "outputs": [
    {
     "data": {
      "image/png": "[encoded data removed]",
      "text/plain": [
       "<Figure size 432x288 with 1 Axes>"
      ]
     },
     "metadata": {
      "needs_background": "light"
     },
     "output_type": "display_data"
    }
   ],
   "source": [
    "# サンプルデータ数\n",
    "m = 200\n",
    "\n",
    "# 乱数のシード値を指定することで，再現性を保つ \n",
    "np.random.seed(seed=2018)\n",
    "\n",
    "# 「-3」から「3」の間で等間隔にm個のデータを作成\n",
    "X = np.linspace(-3, 3, m)\n",
    "\n",
    "# 後のグラフ描画用途に，10倍細かいグリッドを準備しておく\n",
    "X_plot = np.linspace(-3, 3, m*10)\n",
    "\n",
    "# 周期的なsin関数(第一項)に右上がり成分(第二項)と乱数(第三項)を加えたデータを作る\n",
    "y = np.sinc(X) + 0.2 * X + 0.3 * np.random.randn(m)\n",
    "\n",
    "# グラフ表示するため，各数列を1列の行列に変換\n",
    "X = X.reshape(-1, 1)\n",
    "y = y.reshape(-1, 1)\n",
    "X_plot = X_plot.reshape(-1,1)\n",
    "\n",
    "# グラフを表示\n",
    "plt.title(\"sample data\")\n",
    "plt.xlabel(\"$x$\")\n",
    "plt.ylabel(\"$y$\")\n",
    "plt.scatter(X, y, color=\"black\")\n",
    "plt.show()"
   ]
  },
  {
   "cell_type": "code",
   "execution_count": 8,
   "id": "7fd9e710-0442-4259-a002-3feafaa184fa",
   "metadata": {},
   "outputs": [
    {
     "data": {
      "image/png": "[encoded data removed]",
      "text/plain": [
       "<Figure size 432x288 with 1 Axes>"
      ]
     },
     "metadata": {
      "needs_background": "light"
     },
     "output_type": "display_data"
    },
    {
     "data": {
      "text/plain": [
       "<Figure size 432x288 with 0 Axes>"
      ]
     },
     "metadata": {},
     "output_type": "display_data"
    }
   ],
   "source": [
    "# 学習データとテストデータに分割\n",
    "X_train, X_test, y_train, y_test = train_test_split(X, y, test_size=0.30, random_state=2019)\n",
    "\n",
    "# 学習データとテストデータのグラフを表示\n",
    "plt.scatter(X_test, y_test, label=\"test data\", edgecolor='k',facecolor='w')\n",
    "plt.scatter(X_train, y_train, label=\"training data\", color='c')\n",
    "plt.title(\"sample data\")\n",
    "plt.xlabel(\"$x$\")\n",
    "plt.ylabel(\"$y$\")\n",
    "plt.legend()\n",
    "plt.show()\n",
    "\n",
    "# 作成したグラフをファイルに保存\n",
    "filename = os.path.join(temp_dir.name, \"train_and_test_data.png\")\n",
    "plt.savefig(filename)"
   ]
  },
  {
   "cell_type": "code",
   "execution_count": 9,
   "id": "922b22d4-1cc6-4287-9292-89fa762384c4",
   "metadata": {},
   "outputs": [],
   "source": [
    "# 分割前のデータセット\n",
    "np.savetxt(os.path.join(temp_dir.name, \"dataset_X.csv\"), X, delimiter=',')\n",
    "np.savetxt(os.path.join(temp_dir.name, \"dataset_y.csv\"), y, delimiter=',')\n",
    "\n",
    "# 学習データとテストデータに分割後のデータセット\n",
    "np.savetxt(os.path.join(temp_dir.name, \"X_train.csv\"), X_train, delimiter=',')\n",
    "np.savetxt(os.path.join(temp_dir.name, \"y_train.csv\"), y_train, delimiter=',')\n",
    "np.savetxt(os.path.join(temp_dir.name, \"X_test.csv\"), X_test, delimiter=',')\n",
    "np.savetxt(os.path.join(temp_dir.name, \"y_test.csv\"), y_test, delimiter=',')"
   ]
  },
  {
   "cell_type": "code",
   "execution_count": 10,
   "id": "0c865fb1-5274-4ea9-9ef9-72040de5a2a5",
   "metadata": {},
   "outputs": [],
   "source": [
    "# 予測結果のグラフを描画する関数を定義\n",
    "def plot_result(model, X_train, y_train, score, filename=None):\n",
    "    # 予測値の計算\n",
    "    p = model.predict(np.sort(X_test))\n",
    "\n",
    "    # グラフの描画\n",
    "    plt.clf()\n",
    "    plt.scatter(X_test, y_test, label=\"test data\", edgecolor='k',facecolor='w')\n",
    "    plt.scatter(X_train, y_train, label=\"Other training data\", facecolor=\"r\", marker='x')\n",
    "    plt.scatter(X_train[model.support_], y_train[model.support_], label=\"Support vectors\", color='c')\n",
    "\n",
    "    plt.title(\"predicted results\")\n",
    "    plt.xlabel(\"$x$\")\n",
    "    plt.ylabel(\"$y$\")\n",
    "\n",
    "    x = np.reshape(np.arange(-3,3,0.01), (-1, 1))\n",
    "    plt.plot(x, model.predict(x), label=\"model ($R^2=%1.3f$)\" % (score), color='b')\n",
    "\n",
    "    plt.legend()\n",
    "    plt.show()\n",
    "    # グラフの保存\n",
    "    if filename is not None:\n",
    "        plt.savefig(filename)"
   ]
  },
  {
   "cell_type": "code",
   "execution_count": null,
   "id": "93864bfb-74f9-4647-a713-9149bb5000cb",
   "metadata": {},
   "outputs": [],
   "source": [
    "for C in (0.01, 1, 5, 10, 100, 1000):\n",
    "    # ここからの処理を一つのrunとしてmlflowに記録する\n",
    "    with mlflow.start_run(run_name=\"Search C\"):\n",
    "\n",
    "        # モデルの学習を実行\n",
    "        model = SVR(kernel='rbf', C=C, epsilon=0.1, gamma='auto').fit(X_train, np.ravel(y_train))\n",
    "\n",
    "        # 保存しておいたデータセットをMLflowへ送信する\n",
    "        mlflow.log_artifacts(temp_dir.name, artifact_path=\"dataset\")\n",
    "\n",
    "        # タグを指定\n",
    "        mlflow.set_tag(\"algorism\", \"SVR\")\n",
    "\n",
    "        # ハイパーパラメータを記録する\n",
    "        mlflow.log_param(\"C\", C)\n",
    "\n",
    "        # 精度指標を計算し，MLflowに送信する \n",
    "        score = model.score(X_test, y_test)\n",
    "        mlflow.log_metric(\"R2 score\", score)\n",
    "\n",
    "        # モデルを記録したファイルをMLflowに送信する\n",
    "        mlflow.sklearn.log_model(model, \"model\", serialization_format='cloudpickle')\n",
    "\n",
    "        # 一時ディレクトリに予測結果のグラフを保存して，mlflowに送信する\n",
    "        with tempfile.TemporaryDirectory()  as tmp:\n",
    "            filename = os.path.join(tmp, \"predict_results.png\")\n",
    "            plot_result(model, X_train, y_train, model.score(X_test, y_test), filename)\n",
    "            mlflow.log_artifact(filename, artifact_path=\"results\")"
   ]
  },
  {
   "cell_type": "code",
   "execution_count": null,
   "id": "71457419-9805-413a-81d0-021ba0ad56d1",
   "metadata": {},
   "outputs": [],
   "source": []
  },
  {
   "cell_type": "code",
   "execution_count": null,
   "id": "0935857c-2d4b-435c-8dd8-beeaf428b227",
   "metadata": {},
   "outputs": [],
   "source": []
  }
 ],
 "metadata": {
  "kernelspec": {
   "display_name": "Python 3",
   "language": "python",
   "name": "python3"
  },
  "language_info": {
   "codemirror_mode": {
    "name": "ipython",
    "version": 3
   },
   "file_extension": ".py",
   "mimetype": "text/x-python",
   "name": "python",
   "nbconvert_exporter": "python",
   "pygments_lexer": "ipython3",
   "version": "3.7.10"
  }
 },
 "nbformat": 4,
 "nbformat_minor": 5
}

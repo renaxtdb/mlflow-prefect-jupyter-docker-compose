{
 "cells": [
  {
   "cell_type": "markdown",
   "id": "5ad17f21-fa85-44f4-bf91-137705595448",
   "metadata": {},
   "source": [
    "# prefectを使ってみよう"
   ]
  },
  {
   "cell_type": "code",
   "execution_count": 2,
   "id": "6d1634ef-735a-4b3b-93bf-df364f2bc020",
   "metadata": {},
   "outputs": [],
   "source": [
    "from prefect import task, Flow\n",
    "\n",
    "import sys,os\n",
    "sys.path.append('/home/work/example/prefect_tutorials')\n",
    "import aircraftlib as aclib"
   ]
  },
  {
   "cell_type": "code",
   "execution_count": 3,
   "id": "92e5828f-ff90-42ca-a395-1fe7ab677919",
   "metadata": {},
   "outputs": [],
   "source": [
    "@task\n",
    "def extract_reference_data():\n",
    "    print(\"fetching reference data...\")\n",
    "    return aclib.fetch_reference_data()\n",
    "\n",
    "\n",
    "@task\n",
    "def extract_live_data():\n",
    "    # Get the live aircraft vector data around Dulles airport\n",
    "    dulles_airport_position = aclib.Position(lat=38.9519444444, long=-77.4480555556)\n",
    "    area_surrounding_dulles = aclib.bounding_box(dulles_airport_position, radius_km=200)\n",
    "\n",
    "    print(\"fetching live aircraft data...\")\n",
    "    raw_aircraft_data = aclib.fetch_live_aircraft_data(area=area_surrounding_dulles)\n",
    "\n",
    "    return raw_aircraft_data\n",
    "\n",
    "\n",
    "@task\n",
    "def transform(raw_aircraft_data, ref_data):\n",
    "    print(\"cleaning & transform aircraft data...\")\n",
    "\n",
    "    live_aircraft_data = []\n",
    "    for raw_vector in raw_aircraft_data:\n",
    "        vector = aclib.clean_vector(raw_vector)\n",
    "        if vector:\n",
    "            aclib.add_airline_info(vector, ref_data.airlines)\n",
    "            live_aircraft_data.append(vector)\n",
    "\n",
    "    return live_aircraft_data\n",
    "\n",
    "\n",
    "@task\n",
    "def load_reference_data(ref_data):\n",
    "    print(\"saving reference data...\")\n",
    "    db = aclib.Database()\n",
    "    db.update_reference_data(ref_data)\n",
    "\n",
    "\n",
    "@task\n",
    "def load_live_data(live_aircraft_data):\n",
    "    print(\"saving live aircraft data...\")\n",
    "    db = aclib.Database()\n",
    "    db.add_live_aircraft_data(live_aircraft_data)\n"
   ]
  },
  {
   "cell_type": "code",
   "execution_count": 4,
   "id": "34faa12f-30f4-4fbd-bf6c-c90d6066d44a",
   "metadata": {
    "tags": []
   },
   "outputs": [
    {
     "name": "stdout",
     "output_type": "stream",
     "text": [
      "[2021-07-04 16:35:52+0900] INFO - prefect.FlowRunner | Beginning Flow run for 'etl'\n",
      "[2021-07-04 16:35:53+0900] INFO - prefect.TaskRunner | Task 'extract_reference_data': Starting task run...\n",
      "fetching reference data...\n",
      "[2021-07-04 16:35:53+0900] INFO - prefect.TaskRunner | Task 'extract_reference_data': Finished task run for task with final state: 'Success'\n",
      "[2021-07-04 16:35:53+0900] INFO - prefect.TaskRunner | Task 'extract_live_data': Starting task run...\n",
      "fetching live aircraft data...\n",
      "[2021-07-04 16:35:53+0900] INFO - prefect.TaskRunner | Task 'extract_live_data': Finished task run for task with final state: 'Success'\n",
      "[2021-07-04 16:35:53+0900] INFO - prefect.TaskRunner | Task 'transform': Starting task run...\n",
      "cleaning & transform aircraft data...\n",
      "[2021-07-04 16:35:53+0900] INFO - prefect.TaskRunner | Task 'transform': Finished task run for task with final state: 'Success'\n",
      "[2021-07-04 16:35:53+0900] INFO - prefect.TaskRunner | Task 'load_live_data': Starting task run...\n",
      "saving live aircraft data...\n",
      "[2021-07-04 16:35:54+0900] INFO - prefect.TaskRunner | Task 'load_live_data': Finished task run for task with final state: 'Success'\n",
      "[2021-07-04 16:35:54+0900] INFO - prefect.TaskRunner | Task 'load_reference_data': Starting task run...\n",
      "saving reference data...\n",
      "[2021-07-04 16:35:57+0900] INFO - prefect.TaskRunner | Task 'load_reference_data': Finished task run for task with final state: 'Success'\n",
      "[2021-07-04 16:35:57+0900] INFO - prefect.FlowRunner | Flow run SUCCESS: all reference tasks succeeded\n"
     ]
    },
    {
     "data": {
      "text/plain": [
       "<Success: \"All reference tasks succeeded.\">"
      ]
     },
     "execution_count": 4,
     "metadata": {},
     "output_type": "execute_result"
    }
   ],
   "source": [
    "with Flow(\"etl\") as flow:\n",
    "    reference_data = extract_reference_data()\n",
    "    live_data = extract_live_data()\n",
    "\n",
    "    transformed_live_data = transform(live_data, reference_data)\n",
    "\n",
    "    load_reference_data(reference_data)\n",
    "    load_live_data(transformed_live_data)\n",
    "\n",
    "flow.run()"
   ]
  },
  {
   "cell_type": "code",
   "execution_count": 5,
   "id": "3864f0f5-2cfd-40ff-a2bd-5b878941703a",
   "metadata": {
    "tags": []
   },
   "outputs": [
    {
     "data": {
      "image/svg+xml": [
       "<?xml version=\"1.0\" encoding=\"UTF-8\" standalone=\"no\"?>\n",
       "<!DOCTYPE svg PUBLIC \"-//W3C//DTD SVG 1.1//EN\"\n",
       " \"http://www.w3.org/Graphics/SVG/1.1/DTD/svg11.dtd\">\n",
       "<!-- Generated by graphviz version 2.40.1 (20161225.0304)\n",
       " -->\n",
       "<!-- Title: %3 Pages: 1 -->\n",
       "<svg width=\"474pt\" height=\"218pt\"\n",
       " viewBox=\"0.00 0.00 473.59 218.00\" xmlns=\"http://www.w3.org/2000/svg\" xmlns:xlink=\"http://www.w3.org/1999/xlink\">\n",
       "<g id=\"graph0\" class=\"graph\" transform=\"scale(1 1) rotate(0) translate(4 214)\">\n",
       "<title>%3</title>\n",
       "<polygon fill=\"#ffffff\" stroke=\"transparent\" points=\"-4,4 -4,-214 469.5894,-214 469.5894,4 -4,4\"/>\n",
       "<!-- 140677889049424 -->\n",
       "<g id=\"node1\" class=\"node\">\n",
       "<title>140677889049424</title>\n",
       "<ellipse fill=\"none\" stroke=\"#000000\" cx=\"119.5894\" cy=\"-192\" rx=\"119.6788\" ry=\"18\"/>\n",
       "<text text-anchor=\"middle\" x=\"119.5894\" y=\"-188.3\" font-family=\"Times,serif\" font-size=\"14.00\" fill=\"#000000\">extract_reference_data</text>\n",
       "</g>\n",
       "<!-- 140677889050704 -->\n",
       "<g id=\"node3\" class=\"node\">\n",
       "<title>140677889050704</title>\n",
       "<ellipse fill=\"none\" stroke=\"#000000\" cx=\"324.5894\" cy=\"-105\" rx=\"57.3905\" ry=\"18\"/>\n",
       "<text text-anchor=\"middle\" x=\"324.5894\" y=\"-101.3\" font-family=\"Times,serif\" font-size=\"14.00\" fill=\"#000000\">transform</text>\n",
       "</g>\n",
       "<!-- 140677889049424&#45;&gt;140677889050704 -->\n",
       "<g id=\"edge3\" class=\"edge\">\n",
       "<title>140677889049424&#45;&gt;140677889050704</title>\n",
       "<path fill=\"none\" stroke=\"#000000\" d=\"M159.6021,-175.019C194.5789,-160.1752 245.2535,-138.6694 281.1969,-123.4153\"/>\n",
       "<polygon fill=\"#000000\" stroke=\"#000000\" points=\"282.6202,-126.6135 290.4582,-119.485 279.8855,-120.1698 282.6202,-126.6135\"/>\n",
       "<text text-anchor=\"middle\" x=\"264.5894\" y=\"-144.8\" font-family=\"Times,serif\" font-size=\"14.00\" fill=\"#000000\">ref_data</text>\n",
       "</g>\n",
       "<!-- 140677889050896 -->\n",
       "<g id=\"node5\" class=\"node\">\n",
       "<title>140677889050896</title>\n",
       "<ellipse fill=\"none\" stroke=\"#000000\" cx=\"119.5894\" cy=\"-105\" rx=\"105.0817\" ry=\"18\"/>\n",
       "<text text-anchor=\"middle\" x=\"119.5894\" y=\"-101.3\" font-family=\"Times,serif\" font-size=\"14.00\" fill=\"#000000\">load_reference_data</text>\n",
       "</g>\n",
       "<!-- 140677889049424&#45;&gt;140677889050896 -->\n",
       "<g id=\"edge2\" class=\"edge\">\n",
       "<title>140677889049424&#45;&gt;140677889050896</title>\n",
       "<path fill=\"none\" stroke=\"#000000\" d=\"M119.5894,-173.9735C119.5894,-162.1918 119.5894,-146.5607 119.5894,-133.1581\"/>\n",
       "<polygon fill=\"#000000\" stroke=\"#000000\" points=\"123.0895,-133.0033 119.5894,-123.0034 116.0895,-133.0034 123.0895,-133.0033\"/>\n",
       "<text text-anchor=\"middle\" x=\"149.5894\" y=\"-144.8\" font-family=\"Times,serif\" font-size=\"14.00\" fill=\"#000000\">ref_data</text>\n",
       "</g>\n",
       "<!-- 140677889050384 -->\n",
       "<g id=\"node2\" class=\"node\">\n",
       "<title>140677889050384</title>\n",
       "<ellipse fill=\"none\" stroke=\"#000000\" cx=\"348.5894\" cy=\"-192\" rx=\"90.9839\" ry=\"18\"/>\n",
       "<text text-anchor=\"middle\" x=\"348.5894\" y=\"-188.3\" font-family=\"Times,serif\" font-size=\"14.00\" fill=\"#000000\">extract_live_data</text>\n",
       "</g>\n",
       "<!-- 140677889050384&#45;&gt;140677889050704 -->\n",
       "<g id=\"edge1\" class=\"edge\">\n",
       "<title>140677889050384&#45;&gt;140677889050704</title>\n",
       "<path fill=\"none\" stroke=\"#000000\" d=\"M343.6166,-173.9735C340.3343,-162.0751 335.9689,-146.2508 332.2475,-132.7606\"/>\n",
       "<polygon fill=\"#000000\" stroke=\"#000000\" points=\"335.5892,-131.7125 329.5558,-123.0034 328.8412,-133.5741 335.5892,-131.7125\"/>\n",
       "<text text-anchor=\"middle\" x=\"401.5894\" y=\"-144.8\" font-family=\"Times,serif\" font-size=\"14.00\" fill=\"#000000\">raw_aircraft_data</text>\n",
       "</g>\n",
       "<!-- 140677889051408 -->\n",
       "<g id=\"node4\" class=\"node\">\n",
       "<title>140677889051408</title>\n",
       "<ellipse fill=\"none\" stroke=\"#000000\" cx=\"324.5894\" cy=\"-18\" rx=\"77.1866\" ry=\"18\"/>\n",
       "<text text-anchor=\"middle\" x=\"324.5894\" y=\"-14.3\" font-family=\"Times,serif\" font-size=\"14.00\" fill=\"#000000\">load_live_data</text>\n",
       "</g>\n",
       "<!-- 140677889050704&#45;&gt;140677889051408 -->\n",
       "<g id=\"edge4\" class=\"edge\">\n",
       "<title>140677889050704&#45;&gt;140677889051408</title>\n",
       "<path fill=\"none\" stroke=\"#000000\" d=\"M324.5894,-86.9735C324.5894,-75.1918 324.5894,-59.5607 324.5894,-46.1581\"/>\n",
       "<polygon fill=\"#000000\" stroke=\"#000000\" points=\"328.0895,-46.0033 324.5894,-36.0034 321.0895,-46.0034 328.0895,-46.0033\"/>\n",
       "<text text-anchor=\"middle\" x=\"388.0894\" y=\"-57.8\" font-family=\"Times,serif\" font-size=\"14.00\" fill=\"#000000\">live_aircraft_data</text>\n",
       "</g>\n",
       "</g>\n",
       "</svg>\n"
      ],
      "text/plain": [
       "<graphviz.dot.Digraph at 0x7ff21cb2bfd0>"
      ]
     },
     "execution_count": 5,
     "metadata": {},
     "output_type": "execute_result"
    }
   ],
   "source": [
    "flow.visualize()"
   ]
  },
  {
   "cell_type": "code",
   "execution_count": null,
   "id": "045b1b21-f92f-4ea2-a36a-b9641a569abd",
   "metadata": {},
   "outputs": [],
   "source": []
  }
 ],
 "metadata": {
  "kernelspec": {
   "display_name": "Python 3",
   "language": "python",
   "name": "python3"
  },
  "language_info": {
   "codemirror_mode": {
    "name": "ipython",
    "version": 3
   },
   "file_extension": ".py",
   "mimetype": "text/x-python",
   "name": "python",
   "nbconvert_exporter": "python",
   "pygments_lexer": "ipython3",
   "version": "3.7.10"
  }
 },
 "nbformat": 4,
 "nbformat_minor": 5
}
